{
 "cells": [
  {
   "cell_type": "markdown",
   "metadata": {},
   "source": [
    "# Subject: Advanced Data Analysis\n",
    "\n",
    "# Module: Geospatial Analysis\n",
    "\n",
    "## Session 1 - Address and Reverse Geocoding \n",
    "\n",
    "### Demo 4 -  Reverse Geocoding"
   ]
  },
  {
   "cell_type": "code",
   "execution_count": 1,
   "metadata": {},
   "outputs": [
    {
     "name": "stdout",
     "output_type": "stream",
     "text": [
      "Help on function reverse_geocode in module arcgis.geocoding._functions:\n",
      "\n",
      "reverse_geocode(location, distance=None, out_sr=None, lang_code=None, return_intersection=False, for_storage=False, geocoder=None)\n",
      "    The reverse_geocode operation determines the address at a particular\n",
      "    x/y location. You pass the coordinates of a point location to the\n",
      "    geocoding service, and the service returns the address that is\n",
      "    closest to the location.\n",
      "    \n",
      "    ===============     ====================================================\n",
      "    **Argument**        **Description**\n",
      "    ---------------     ----------------------------------------------------\n",
      "    location            required list/Point Geometry\n",
      "    ---------------     ----------------------------------------------------\n",
      "    distance            optional float, radial distance in meteres to\n",
      "                        search for an address.  The default is 100 meters.\n",
      "    ---------------     ----------------------------------------------------\n",
      "    out_sr              optional integer, spatial reference of the x/y\n",
      "                        coordinate returned.\n",
      "    ---------------     ----------------------------------------------------\n",
      "    return_intersection optional Boolean, which specifies whether the\n",
      "                        service should return the nearest street\n",
      "                        intersection or the nearest address to the input\n",
      "                        location\n",
      "    ---------------     ----------------------------------------------------\n",
      "    for_storage         optional boolean, specifies whether the results of\n",
      "                        the operation will be persisted\n",
      "    ---------------     ----------------------------------------------------\n",
      "    geocoder            optional geocoder, the geocoder to be used. If not\n",
      "                        specified, the active GIS's first geocoder is used.\n",
      "    ===============     ====================================================\n",
      "    \n",
      "    :returns:\n",
      "       dictionary\n",
      "\n"
     ]
    }
   ],
   "source": [
    "from arcgis.geocoding import reverse_geocode\n",
    "\n",
    "help(reverse_geocode)"
   ]
  },
  {
   "cell_type": "markdown",
   "metadata": {},
   "source": [
    "# 1. Reverse geocode the location x = 2.2945, y = 48.8583"
   ]
  },
  {
   "cell_type": "code",
   "execution_count": 4,
   "metadata": {},
   "outputs": [],
   "source": [
    "from arcgis.gis import GIS\n",
    "from arcgis.geocoding import reverse_geocode\n",
    "\n",
    "gis = GIS(\"http://www.arcgis.com\", \"sergisarri17\", \"guatemala2016\")\n",
    "# gis = GIS(\"http://www.arcgis.com\", \"username\", \"password\")"
   ]
  },
  {
   "cell_type": "code",
   "execution_count": 5,
   "metadata": {
    "collapsed": true
   },
   "outputs": [],
   "source": [
    "results = reverse_geocode([2.2945, 48.8583])"
   ]
  },
  {
   "cell_type": "code",
   "execution_count": 6,
   "metadata": {},
   "outputs": [
    {
     "data": {
      "text/plain": [
       "{'address': {'AddNum': '',\n",
       "  'Addr_type': 'POI',\n",
       "  'Address': 'Avenue Gustave Eiffel',\n",
       "  'Block': '',\n",
       "  'City': 'Paris',\n",
       "  'CountryCode': 'FRA',\n",
       "  'District': '7e Arrondissement',\n",
       "  'LongLabel': 'Salle Gustave Eiffel, Avenue Gustave Eiffel, 75007, 7e Arrondissement, Paris, Île-de-France, FRA',\n",
       "  'Match_addr': 'Salle Gustave Eiffel',\n",
       "  'MetroArea': '',\n",
       "  'Neighborhood': 'Gros Caillou',\n",
       "  'PlaceName': 'Salle Gustave Eiffel',\n",
       "  'Postal': '75007',\n",
       "  'PostalExt': '',\n",
       "  'Region': 'Île-de-France',\n",
       "  'Sector': '',\n",
       "  'ShortLabel': 'Salle Gustave Eiffel',\n",
       "  'Subregion': 'Paris',\n",
       "  'Territory': '',\n",
       "  'Type': 'Convention Center'},\n",
       " 'location': {'spatialReference': {'latestWkid': 4326, 'wkid': 4326},\n",
       "  'x': 2.2951599583073303,\n",
       "  'y': 48.85784000836726}}"
      ]
     },
     "execution_count": 6,
     "metadata": {},
     "output_type": "execute_result"
    }
   ],
   "source": [
    "results"
   ]
  },
  {
   "cell_type": "markdown",
   "metadata": {},
   "source": [
    "# 2. Reverse geocode a location in Brussels with lang_code='fr' (location = 4.366281,50.851994)"
   ]
  },
  {
   "cell_type": "markdown",
   "metadata": {},
   "source": [
    "Lang_code = Sets the language in which reverse-geocoded addresses are returned. Addresses in many countries are available in more than one language.\n",
    "\n",
    "https://en.wikipedia.org/wiki/List_of_ISO_639-1_codes"
   ]
  },
  {
   "cell_type": "code",
   "execution_count": 7,
   "metadata": {
    "collapsed": true
   },
   "outputs": [],
   "source": [
    "result = reverse_geocode([4.366281,50.851994], lang_code=\"fr\")"
   ]
  },
  {
   "cell_type": "code",
   "execution_count": 8,
   "metadata": {},
   "outputs": [
    {
     "data": {
      "text/plain": [
       "{'address': {'AddNum': '16',\n",
       "  'Addr_type': 'StreetAddress',\n",
       "  'Address': 'Rue de la Sablonnière 16',\n",
       "  'Block': '',\n",
       "  'City': 'Bruxelles',\n",
       "  'CountryCode': 'BEL',\n",
       "  'District': 'Bruxelles',\n",
       "  'LongLabel': 'Rue de la Sablonnière 2-30, 1000, Bruxelles, BEL',\n",
       "  'Match_addr': 'Rue de la Sablonnière 2-30, 1000, Bruxelles',\n",
       "  'MetroArea': '',\n",
       "  'Neighborhood': 'Notre-Dame aux Neiges',\n",
       "  'PlaceName': '',\n",
       "  'Postal': '1000',\n",
       "  'PostalExt': '',\n",
       "  'Region': 'Bruxelles',\n",
       "  'Sector': '',\n",
       "  'ShortLabel': 'Rue de la Sablonnière 2-30',\n",
       "  'Subregion': 'Bruxelles',\n",
       "  'Territory': '',\n",
       "  'Type': ''},\n",
       " 'location': {'spatialReference': {'latestWkid': 4326, 'wkid': 4326},\n",
       "  'x': 4.366304429887648,\n",
       "  'y': 50.85203686897026}}"
      ]
     },
     "execution_count": 8,
     "metadata": {},
     "output_type": "execute_result"
    }
   ],
   "source": [
    "result"
   ]
  },
  {
   "cell_type": "markdown",
   "metadata": {},
   "source": [
    "# 3. Reverse geocode a clicked location on the map"
   ]
  },
  {
   "cell_type": "code",
   "execution_count": 9,
   "metadata": {
    "collapsed": true
   },
   "outputs": [],
   "source": [
    "from arcgis.gis import GIS\n",
    "from arcgis.geocoding import reverse_geocode\n",
    "gis = GIS(\"http://www.arcgis.com\", \"sergisarri17\", \"guatemala2016\")\n",
    "# gis = GIS(\"http://www.arcgis.com\", \"username\", \"password\")"
   ]
  },
  {
   "cell_type": "code",
   "execution_count": 10,
   "metadata": {},
   "outputs": [
    {
     "data": {
      "application/vnd.jupyter.widget-view+json": {
       "model_id": "e9ef97253c6740599d971f0bfa0817b6"
      }
     },
     "metadata": {},
     "output_type": "display_data"
    },
    {
     "name": "stdout",
     "output_type": "stream",
     "text": [
      "15 San Gorgonio Dr, Redlands, California, 92373\n",
      "188 S Eureka St, Redlands, California, 92373\n",
      "188 S Eureka St, Redlands, California, 92373\n",
      "2-64 W Vine St, Redlands, California, 92373\n",
      "2-98 S Church St, Redlands, California, 92374\n",
      "S Church St, Redlands, California, 92374\n",
      "Post Office-Redlands\n"
     ]
    }
   ],
   "source": [
    "m = gis.map('Redlands, CA', 14)\n",
    "m"
   ]
  },
  {
   "cell_type": "code",
   "execution_count": 11,
   "metadata": {
    "collapsed": true
   },
   "outputs": [],
   "source": [
    "def find_addr(m, g):\n",
    "    try:\n",
    "        geocoded = reverse_geocode(g)\n",
    "        print(geocoded['address']['Match_addr'])\n",
    "    except:\n",
    "        print(\"Couldn't match address. Try another place...\")\n",
    "\n",
    "m.on_click(find_addr)"
   ]
  },
  {
   "cell_type": "markdown",
   "metadata": {},
   "source": [
    "## Task: test the reverse geocoding based on other locations (e.g. your home, your city, BTS building). Tip: use the ArcGIS Online tools to get your coordinates."
   ]
  },
  {
   "cell_type": "code",
   "execution_count": 12,
   "metadata": {},
   "outputs": [
    {
     "data": {
      "application/vnd.jupyter.widget-view+json": {
       "model_id": "41c5a17c0aa745c6b4bdbf2e0faa75b9"
      }
     },
     "metadata": {},
     "output_type": "display_data"
    },
    {
     "name": "stdout",
     "output_type": "stream",
     "text": [
      "Carrer de la Diputació 110, 08015, La Nova Esquerra de l'Eixample, Barcelona, Catalunya\n",
      "Thai Thai\n",
      "Carrer de la Diputació 85-111, 08015, La Nova Esquerra de l'Eixample, Barcelona, Catalunya\n",
      "Els Napolitans\n",
      "Els Napolitans\n",
      "Els Napolitans\n",
      "Carrer de la Diputació 91, 08015, La Nova Esquerra de l'Eixample, Barcelona, Catalunya\n"
     ]
    }
   ],
   "source": [
    "m2 = gis.map('Barcelona', 14)\n",
    "m2"
   ]
  },
  {
   "cell_type": "code",
   "execution_count": 13,
   "metadata": {
    "collapsed": true
   },
   "outputs": [],
   "source": [
    "def find_addr(m, g):\n",
    "    try:\n",
    "        geocoded = reverse_geocode(g)\n",
    "        print(geocoded['address']['Match_addr'])\n",
    "    except:\n",
    "        print(\"Couldn't match address. Try another place...\")\n",
    "\n",
    "m2.on_click(find_addr)"
   ]
  },
  {
   "cell_type": "code",
   "execution_count": 16,
   "metadata": {
    "collapsed": true
   },
   "outputs": [],
   "source": [
    "result2 = reverse_geocode([2.190232,41.397305], lang_code=\"ca\") #BTS Location, c/Almogàvers 123"
   ]
  },
  {
   "cell_type": "code",
   "execution_count": 17,
   "metadata": {},
   "outputs": [
    {
     "data": {
      "text/plain": [
       "{'address': {'AddNum': '121',\n",
       "  'Addr_type': 'StreetAddress',\n",
       "  'Address': 'Carrer dels Almogàvers 121',\n",
       "  'Block': '',\n",
       "  'City': 'Barcelona',\n",
       "  'CountryCode': 'ESP',\n",
       "  'District': 'Barcelona',\n",
       "  'LongLabel': 'Carrer dels Almogàvers 113-123, 08018, El Parc i la Llacuna del Poblenou, Barcelona, Catalunya, ESP',\n",
       "  'Match_addr': 'Carrer dels Almogàvers 113-123, 08018, El Parc i la Llacuna del Poblenou, Barcelona, Catalunya',\n",
       "  'MetroArea': '',\n",
       "  'Neighborhood': 'El Parc i la Llacuna del Poblenou',\n",
       "  'PlaceName': '',\n",
       "  'Postal': '08018',\n",
       "  'PostalExt': '',\n",
       "  'Region': 'Catalunya',\n",
       "  'Sector': '',\n",
       "  'ShortLabel': 'Carrer dels Almogàvers 113-123',\n",
       "  'Subregion': 'Barcelona',\n",
       "  'Territory': '',\n",
       "  'Type': ''},\n",
       " 'location': {'spatialReference': {'latestWkid': 4326, 'wkid': 4326},\n",
       "  'x': 2.190218122285726,\n",
       "  'y': 41.39732423955843}}"
      ]
     },
     "execution_count": 17,
     "metadata": {},
     "output_type": "execute_result"
    }
   ],
   "source": [
    "result2"
   ]
  },
  {
   "cell_type": "code",
   "execution_count": null,
   "metadata": {
    "collapsed": true
   },
   "outputs": [],
   "source": []
  }
 ],
 "metadata": {
  "kernelspec": {
   "display_name": "Python 3",
   "language": "python",
   "name": "python3"
  },
  "language_info": {
   "codemirror_mode": {
    "name": "ipython",
    "version": 3
   },
   "file_extension": ".py",
   "mimetype": "text/x-python",
   "name": "python",
   "nbconvert_exporter": "python",
   "pygments_lexer": "ipython3",
   "version": "3.6.3"
  }
 },
 "nbformat": 4,
 "nbformat_minor": 2
}
