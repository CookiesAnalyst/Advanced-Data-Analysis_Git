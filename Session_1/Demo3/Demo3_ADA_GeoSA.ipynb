{
 "cells": [
  {
   "cell_type": "markdown",
   "metadata": {},
   "source": [
    "# Subject: Advanced Data Analysis\n",
    "\n",
    "# Module: Geospatial Analysis\n",
    "\n",
    "## Session 1 - Address and Reverse Geocoding \n",
    "\n",
    "### Demo 3 -  Geocoding"
   ]
  },
  {
   "cell_type": "markdown",
   "metadata": {},
   "source": [
    "# 1. Geocode using single line addresses"
   ]
  },
  {
   "cell_type": "code",
   "execution_count": 3,
   "metadata": {},
   "outputs": [],
   "source": [
    "from arcgis.gis import GIS\n",
    "from arcgis.geocoding import get_geocoders, batch_geocode\n",
    "\n",
    "gis = GIS(\"http://www.arcgis.com\", \"sergisarri17\", \"guatemala2016\")\n",
    "\n",
    "# gis = GIS(\"http://www.arcgis.com\", \"username\", \"password\")\n",
    "\n",
    "# use the first of GIS's configured geocoders\n",
    "geocoder = get_geocoders(gis)[0]"
   ]
  },
  {
   "cell_type": "code",
   "execution_count": 4,
   "metadata": {
    "collapsed": true
   },
   "outputs": [],
   "source": [
    "addresses = [\"380 New York St, Redlands, CA\", \n",
    "             \"1 World Way, Los Angeles, CA\",\n",
    "             \"1200 Getty Center Drive, Los Angeles, CA\", \n",
    "             \"5905 Wilshire Boulevard, Los Angeles, CA\",\n",
    "             \"100 Universal City Plaza, Universal City, CA 91608\",\n",
    "             \"4800 Oak Grove Dr, Pasadena, CA 91109\"]"
   ]
  },
  {
   "cell_type": "code",
   "execution_count": 5,
   "metadata": {
    "collapsed": true
   },
   "outputs": [],
   "source": [
    "results = batch_geocode(addresses)"
   ]
  },
  {
   "cell_type": "code",
   "execution_count": 6,
   "metadata": {},
   "outputs": [
    {
     "data": {
      "text/plain": [
       "[{'address': '380 New York St, Redlands, California, 92373',\n",
       "  'attributes': {'AddBldg': '',\n",
       "   'AddNum': '380',\n",
       "   'AddNumFrom': '',\n",
       "   'AddNumTo': '',\n",
       "   'AddRange': '',\n",
       "   'Addr_type': 'PointAddress',\n",
       "   'BldgName': '',\n",
       "   'BldgType': '',\n",
       "   'Block': '',\n",
       "   'City': 'Redlands',\n",
       "   'Country': 'USA',\n",
       "   'DisplayX': -117.1953135,\n",
       "   'DisplayY': 34.05610800000001,\n",
       "   'Distance': 0,\n",
       "   'District': '',\n",
       "   'ExInfo': '',\n",
       "   'LangCode': 'ENG',\n",
       "   'LevelName': '',\n",
       "   'LevelType': '',\n",
       "   'Loc_name': 'World',\n",
       "   'LongLabel': '380 New York St, Redlands, CA, 92373, USA',\n",
       "   'Match_addr': '380 New York St, Redlands, California, 92373',\n",
       "   'MetroArea': 'Inland Empire',\n",
       "   'Nbrhd': 'West Redlands',\n",
       "   'Phone': '',\n",
       "   'PlaceName': '',\n",
       "   'Place_addr': '380 New York St, Redlands, California, 92373',\n",
       "   'Postal': '92373',\n",
       "   'PostalExt': '',\n",
       "   'Rank': 20,\n",
       "   'Region': 'California',\n",
       "   'RegionAbbr': 'CA',\n",
       "   'ResultID': 0,\n",
       "   'Score': 100,\n",
       "   'Sector': '',\n",
       "   'ShortLabel': '380 New York St',\n",
       "   'Side': 'R',\n",
       "   'StAddr': '380 New York St',\n",
       "   'StDir': '',\n",
       "   'StName': 'New York',\n",
       "   'StPreDir': '',\n",
       "   'StPreType': '',\n",
       "   'StType': 'St',\n",
       "   'Status': 'M',\n",
       "   'SubAddr': '',\n",
       "   'Subregion': 'San Bernardino County',\n",
       "   'Territory': '',\n",
       "   'Type': '',\n",
       "   'URL': '',\n",
       "   'UnitName': '',\n",
       "   'UnitType': '',\n",
       "   'X': -117.1956703176181,\n",
       "   'Xmax': -117.19431349999999,\n",
       "   'Xmin': -117.1963135,\n",
       "   'Y': 34.05648811930892,\n",
       "   'Ymax': 34.05710800000001,\n",
       "   'Ymin': 34.05510800000001,\n",
       "   'Zone': ''},\n",
       "  'location': {'x': -117.19567031799994, 'y': 34.05648811900005},\n",
       "  'score': 100},\n",
       " {'address': '1 World Way, Los Angeles, California, 90045',\n",
       "  'attributes': {'AddBldg': '',\n",
       "   'AddNum': '1',\n",
       "   'AddNumFrom': '1',\n",
       "   'AddNumTo': '99',\n",
       "   'AddRange': '1-99',\n",
       "   'Addr_type': 'StreetAddress',\n",
       "   'BldgName': '',\n",
       "   'BldgType': '',\n",
       "   'Block': '',\n",
       "   'City': 'Los Angeles',\n",
       "   'Country': 'USA',\n",
       "   'DisplayX': -118.39847141222306,\n",
       "   'DisplayY': 33.94432663265488,\n",
       "   'Distance': 0,\n",
       "   'District': '',\n",
       "   'ExInfo': '',\n",
       "   'LangCode': 'ENG',\n",
       "   'LevelName': '',\n",
       "   'LevelType': '',\n",
       "   'Loc_name': 'World',\n",
       "   'LongLabel': '1 World Way, Los Angeles, CA, 90045, USA',\n",
       "   'Match_addr': '1 World Way, Los Angeles, California, 90045',\n",
       "   'MetroArea': 'Los Angeles Metro Area',\n",
       "   'Nbrhd': 'Westchester',\n",
       "   'Phone': '',\n",
       "   'PlaceName': '',\n",
       "   'Place_addr': '1 World Way, Los Angeles, California, 90045',\n",
       "   'Postal': '90045',\n",
       "   'PostalExt': '',\n",
       "   'Rank': 20,\n",
       "   'Region': 'California',\n",
       "   'RegionAbbr': 'CA',\n",
       "   'ResultID': 1,\n",
       "   'Score': 100,\n",
       "   'Sector': '',\n",
       "   'ShortLabel': '1 World Way',\n",
       "   'Side': 'R',\n",
       "   'StAddr': '1 World Way',\n",
       "   'StDir': '',\n",
       "   'StName': 'World',\n",
       "   'StPreDir': '',\n",
       "   'StPreType': '',\n",
       "   'StType': 'Way',\n",
       "   'Status': 'M',\n",
       "   'SubAddr': '',\n",
       "   'Subregion': 'Los Angeles County',\n",
       "   'Territory': '',\n",
       "   'Type': '',\n",
       "   'URL': '',\n",
       "   'UnitName': '',\n",
       "   'UnitType': '',\n",
       "   'X': -118.39847141222306,\n",
       "   'Xmax': -118.39747141222306,\n",
       "   'Xmin': -118.39947141222306,\n",
       "   'Y': 33.94432663265488,\n",
       "   'Ymax': 33.945326632654876,\n",
       "   'Ymin': 33.94332663265488,\n",
       "   'Zone': ''},\n",
       "  'location': {'x': -118.39847141199999, 'y': 33.94432663300006},\n",
       "  'score': 100},\n",
       " {'address': '1200 Getty Center Dr, Los Angeles, California, 90049',\n",
       "  'attributes': {'AddBldg': '',\n",
       "   'AddNum': '1200',\n",
       "   'AddNumFrom': '',\n",
       "   'AddNumTo': '',\n",
       "   'AddRange': '',\n",
       "   'Addr_type': 'PointAddress',\n",
       "   'BldgName': '',\n",
       "   'BldgType': '',\n",
       "   'Block': '',\n",
       "   'City': 'Los Angeles',\n",
       "   'Country': 'USA',\n",
       "   'DisplayX': -118.4754015,\n",
       "   'DisplayY': 34.079831999999996,\n",
       "   'Distance': 0,\n",
       "   'District': '',\n",
       "   'ExInfo': '',\n",
       "   'LangCode': 'ENG',\n",
       "   'LevelName': '',\n",
       "   'LevelType': '',\n",
       "   'Loc_name': 'World',\n",
       "   'LongLabel': '1200 Getty Center Dr, Los Angeles, CA, 90049, USA',\n",
       "   'Match_addr': '1200 Getty Center Dr, Los Angeles, California, 90049',\n",
       "   'MetroArea': 'Los Angeles Metro Area',\n",
       "   'Nbrhd': '',\n",
       "   'Phone': '',\n",
       "   'PlaceName': '',\n",
       "   'Place_addr': '1200 Getty Center Dr, Los Angeles, California, 90049',\n",
       "   'Postal': '90049',\n",
       "   'PostalExt': '',\n",
       "   'Rank': 20,\n",
       "   'Region': 'California',\n",
       "   'RegionAbbr': 'CA',\n",
       "   'ResultID': 2,\n",
       "   'Score': 100,\n",
       "   'Sector': '',\n",
       "   'ShortLabel': '1200 Getty Center Dr',\n",
       "   'Side': 'R',\n",
       "   'StAddr': '1200 Getty Center Dr',\n",
       "   'StDir': '',\n",
       "   'StName': 'Getty Center',\n",
       "   'StPreDir': '',\n",
       "   'StPreType': '',\n",
       "   'StType': 'Dr',\n",
       "   'Status': 'M',\n",
       "   'SubAddr': '',\n",
       "   'Subregion': 'Los Angeles County',\n",
       "   'Territory': '',\n",
       "   'Type': '',\n",
       "   'URL': '',\n",
       "   'UnitName': '',\n",
       "   'UnitType': '',\n",
       "   'X': -118.47640204778182,\n",
       "   'Xmax': -118.4744015,\n",
       "   'Xmin': -118.47640150000001,\n",
       "   'Y': 34.088529314189906,\n",
       "   'Ymax': 34.080831999999994,\n",
       "   'Ymin': 34.078832,\n",
       "   'Zone': 'Brentwood'},\n",
       "  'location': {'x': -118.47640204799995, 'y': 34.08852931400003},\n",
       "  'score': 100},\n",
       " {'address': '5905 Wilshire Blvd, Los Angeles, California, 90036',\n",
       "  'attributes': {'AddBldg': '',\n",
       "   'AddNum': '5905',\n",
       "   'AddNumFrom': '',\n",
       "   'AddNumTo': '',\n",
       "   'AddRange': '',\n",
       "   'Addr_type': 'PointAddress',\n",
       "   'BldgName': '',\n",
       "   'BldgType': '',\n",
       "   'Block': '',\n",
       "   'City': 'Los Angeles',\n",
       "   'Country': 'USA',\n",
       "   'DisplayX': -118.356894,\n",
       "   'DisplayY': 34.06371300000001,\n",
       "   'Distance': 0,\n",
       "   'District': '',\n",
       "   'ExInfo': '',\n",
       "   'LangCode': 'ENG',\n",
       "   'LevelName': '',\n",
       "   'LevelType': '',\n",
       "   'Loc_name': 'World',\n",
       "   'LongLabel': '5905 Wilshire Blvd, Los Angeles, CA, 90036, USA',\n",
       "   'Match_addr': '5905 Wilshire Blvd, Los Angeles, California, 90036',\n",
       "   'MetroArea': 'Los Angeles Metro Area',\n",
       "   'Nbrhd': 'Fairfax',\n",
       "   'Phone': '',\n",
       "   'PlaceName': '',\n",
       "   'Place_addr': '5905 Wilshire Blvd, Los Angeles, California, 90036',\n",
       "   'Postal': '90036',\n",
       "   'PostalExt': '',\n",
       "   'Rank': 20,\n",
       "   'Region': 'California',\n",
       "   'RegionAbbr': 'CA',\n",
       "   'ResultID': 3,\n",
       "   'Score': 100,\n",
       "   'Sector': '',\n",
       "   'ShortLabel': '5905 Wilshire Blvd',\n",
       "   'Side': 'R',\n",
       "   'StAddr': '5905 Wilshire Blvd',\n",
       "   'StDir': '',\n",
       "   'StName': 'Wilshire',\n",
       "   'StPreDir': '',\n",
       "   'StPreType': '',\n",
       "   'StType': 'Blvd',\n",
       "   'Status': 'M',\n",
       "   'SubAddr': '',\n",
       "   'Subregion': 'Los Angeles County',\n",
       "   'Territory': '',\n",
       "   'Type': '',\n",
       "   'URL': '',\n",
       "   'UnitName': '',\n",
       "   'UnitType': '',\n",
       "   'X': -118.35881119271286,\n",
       "   'Xmax': -118.35589399999999,\n",
       "   'Xmin': -118.357894,\n",
       "   'Y': 34.06271035674239,\n",
       "   'Ymax': 34.064713000000005,\n",
       "   'Ymin': 34.06271300000001,\n",
       "   'Zone': ''},\n",
       "  'location': {'x': -118.35881119299995, 'y': 34.06271035700007},\n",
       "  'score': 100},\n",
       " {'address': '100 Universal City Plz, Universal City, California, 91608',\n",
       "  'attributes': {'AddBldg': '',\n",
       "   'AddNum': '100',\n",
       "   'AddNumFrom': '136',\n",
       "   'AddNumTo': '46',\n",
       "   'AddRange': '46-136',\n",
       "   'Addr_type': 'StreetAddress',\n",
       "   'BldgName': '',\n",
       "   'BldgType': '',\n",
       "   'Block': '',\n",
       "   'City': 'Universal City',\n",
       "   'Country': 'USA',\n",
       "   'DisplayX': -118.35437820891575,\n",
       "   'DisplayY': 34.13616756783956,\n",
       "   'Distance': 0,\n",
       "   'District': '',\n",
       "   'ExInfo': '',\n",
       "   'LangCode': 'ENG',\n",
       "   'LevelName': '',\n",
       "   'LevelType': '',\n",
       "   'Loc_name': 'World',\n",
       "   'LongLabel': '100 Universal City Plz, Universal City, CA, 91608, USA',\n",
       "   'Match_addr': '100 Universal City Plz, Universal City, California, 91608',\n",
       "   'MetroArea': 'Los Angeles Metro Area',\n",
       "   'Nbrhd': 'Universal City',\n",
       "   'Phone': '',\n",
       "   'PlaceName': '',\n",
       "   'Place_addr': '100 Universal City Plz, Universal City, California, 91608',\n",
       "   'Postal': '91608',\n",
       "   'PostalExt': '',\n",
       "   'Rank': 20,\n",
       "   'Region': 'California',\n",
       "   'RegionAbbr': 'CA',\n",
       "   'ResultID': 4,\n",
       "   'Score': 100,\n",
       "   'Sector': '',\n",
       "   'ShortLabel': '100 Universal City Plz',\n",
       "   'Side': 'R',\n",
       "   'StAddr': '100 Universal City Plz',\n",
       "   'StDir': '',\n",
       "   'StName': 'Universal City',\n",
       "   'StPreDir': '',\n",
       "   'StPreType': '',\n",
       "   'StType': 'Plz',\n",
       "   'Status': 'T',\n",
       "   'SubAddr': '',\n",
       "   'Subregion': 'Los Angeles County',\n",
       "   'Territory': '',\n",
       "   'Type': '',\n",
       "   'URL': '',\n",
       "   'UnitName': '',\n",
       "   'UnitType': '',\n",
       "   'X': -118.35437820891575,\n",
       "   'Xmax': -118.35337820891574,\n",
       "   'Xmin': -118.35537820891575,\n",
       "   'Y': 34.13616756783956,\n",
       "   'Ymax': 34.137167567839555,\n",
       "   'Ymin': 34.13516756783956,\n",
       "   'Zone': ''},\n",
       "  'location': {'x': -118.35437820899995, 'y': 34.136167568000076},\n",
       "  'score': 100},\n",
       " {'address': '4800 Oak Grove Dr, La Canada Flintridge, California, 91011',\n",
       "  'attributes': {'AddBldg': '',\n",
       "   'AddNum': '4800',\n",
       "   'AddNumFrom': '4724',\n",
       "   'AddNumTo': '4798',\n",
       "   'AddRange': '4724-4798',\n",
       "   'Addr_type': 'StreetAddressExt',\n",
       "   'BldgName': '',\n",
       "   'BldgType': '',\n",
       "   'Block': '',\n",
       "   'City': 'La Canada Flintridge',\n",
       "   'Country': 'USA',\n",
       "   'DisplayX': -118.1752984817961,\n",
       "   'DisplayY': 34.19778672419795,\n",
       "   'Distance': 0,\n",
       "   'District': '',\n",
       "   'ExInfo': '91109',\n",
       "   'LangCode': 'ENG',\n",
       "   'LevelName': '',\n",
       "   'LevelType': '',\n",
       "   'Loc_name': 'World',\n",
       "   'LongLabel': '4800 Oak Grove Dr, La Canada Flintridge, CA, 91011, USA',\n",
       "   'Match_addr': '4800 Oak Grove Dr, La Canada Flintridge, California, 91011',\n",
       "   'MetroArea': 'Los Angeles Metro Area',\n",
       "   'Nbrhd': 'City of Pasadena',\n",
       "   'Phone': '',\n",
       "   'PlaceName': '',\n",
       "   'Place_addr': '4800 Oak Grove Dr, La Canada Flintridge, California, 91011',\n",
       "   'Postal': '91011',\n",
       "   'PostalExt': '',\n",
       "   'Rank': 20,\n",
       "   'Region': 'California',\n",
       "   'RegionAbbr': 'CA',\n",
       "   'ResultID': 5,\n",
       "   'Score': 87,\n",
       "   'Sector': '',\n",
       "   'ShortLabel': '4800 Oak Grove Dr',\n",
       "   'Side': 'R',\n",
       "   'StAddr': '4800 Oak Grove Dr',\n",
       "   'StDir': '',\n",
       "   'StName': 'Oak Grove',\n",
       "   'StPreDir': '',\n",
       "   'StPreType': '',\n",
       "   'StType': 'Dr',\n",
       "   'Status': 'M',\n",
       "   'SubAddr': '',\n",
       "   'Subregion': 'Los Angeles County',\n",
       "   'Territory': '',\n",
       "   'Type': '',\n",
       "   'URL': '',\n",
       "   'UnitName': '',\n",
       "   'UnitType': '',\n",
       "   'X': -118.1752984817961,\n",
       "   'Xmax': -118.1742984817961,\n",
       "   'Xmin': -118.17629848179611,\n",
       "   'Y': 34.19778672419795,\n",
       "   'Ymax': 34.198786724197944,\n",
       "   'Ymin': 34.19678672419795,\n",
       "   'Zone': ''},\n",
       "  'location': {'x': -118.17529848199996, 'y': 34.197786724000025},\n",
       "  'score': 87}]"
      ]
     },
     "execution_count": 6,
     "metadata": {},
     "output_type": "execute_result"
    }
   ],
   "source": [
    "results"
   ]
  },
  {
   "cell_type": "code",
   "execution_count": 7,
   "metadata": {},
   "outputs": [
    {
     "data": {
      "application/vnd.jupyter.widget-view+json": {
       "model_id": "1f95b68265bb431e9863d5597630c571"
      }
     },
     "metadata": {},
     "output_type": "display_data"
    }
   ],
   "source": [
    "map = gis.map(\"Los Angeles\", 9)\n",
    "map"
   ]
  },
  {
   "cell_type": "code",
   "execution_count": 8,
   "metadata": {
    "collapsed": true
   },
   "outputs": [],
   "source": [
    "for address in results:\n",
    "    map.draw(address['location'])"
   ]
  },
  {
   "cell_type": "code",
   "execution_count": 12,
   "metadata": {
    "collapsed": true
   },
   "outputs": [],
   "source": [
    "adress2 = [\"Corsega, 552, Barcelona\"]"
   ]
  },
  {
   "cell_type": "code",
   "execution_count": 15,
   "metadata": {},
   "outputs": [],
   "source": [
    "results2 = batch_geocode(adress2)"
   ]
  },
  {
   "cell_type": "code",
   "execution_count": 16,
   "metadata": {},
   "outputs": [
    {
     "data": {
      "text/plain": [
       "[{'address': 'Carrer de Còrsega 552, 08025, Sagrada Familia, Barcelona, Catalunya',\n",
       "  'attributes': {'AddBldg': '',\n",
       "   'AddNum': '552',\n",
       "   'AddNumFrom': '',\n",
       "   'AddNumTo': '',\n",
       "   'AddRange': '',\n",
       "   'Addr_type': 'PointAddress',\n",
       "   'BldgName': '',\n",
       "   'BldgType': '',\n",
       "   'Block': '',\n",
       "   'City': 'Barcelona',\n",
       "   'Country': 'ESP',\n",
       "   'DisplayX': 2.173126499999995,\n",
       "   'DisplayY': 41.40679500000002,\n",
       "   'Distance': 0,\n",
       "   'District': 'Barcelona',\n",
       "   'ExInfo': '',\n",
       "   'LangCode': 'CAT',\n",
       "   'LevelName': '',\n",
       "   'LevelType': '',\n",
       "   'Loc_name': 'World',\n",
       "   'LongLabel': 'Carrer de Còrsega 552, 08025, Sagrada Familia, Barcelona, Catalunya, ESP',\n",
       "   'Match_addr': 'Carrer de Còrsega 552, 08025, Sagrada Familia, Barcelona, Catalunya',\n",
       "   'MetroArea': '',\n",
       "   'Nbrhd': 'Sagrada Familia',\n",
       "   'Phone': '',\n",
       "   'PlaceName': '',\n",
       "   'Place_addr': 'Carrer de Còrsega 552, 08025, Sagrada Familia, Barcelona, Catalunya',\n",
       "   'Postal': '08025',\n",
       "   'PostalExt': '',\n",
       "   'Rank': 20,\n",
       "   'Region': 'Catalunya',\n",
       "   'RegionAbbr': '',\n",
       "   'ResultID': 0,\n",
       "   'Score': 98.21,\n",
       "   'Sector': '',\n",
       "   'ShortLabel': 'Carrer de Còrsega 552',\n",
       "   'Side': 'R',\n",
       "   'StAddr': 'Carrer de Còrsega 552',\n",
       "   'StDir': '',\n",
       "   'StName': 'Còrsega',\n",
       "   'StPreDir': '',\n",
       "   'StPreType': 'Carrer de',\n",
       "   'StType': '',\n",
       "   'Status': 'M',\n",
       "   'SubAddr': '',\n",
       "   'Subregion': 'Barcelona',\n",
       "   'Territory': '',\n",
       "   'Type': '',\n",
       "   'URL': '',\n",
       "   'UnitName': '',\n",
       "   'UnitType': '',\n",
       "   'X': 2.173054415632703,\n",
       "   'Xmax': 2.174126499999995,\n",
       "   'Xmin': 2.172126499999995,\n",
       "   'Y': 41.40684101664844,\n",
       "   'Ymax': 41.407795000000014,\n",
       "   'Ymin': 41.40579500000002,\n",
       "   'Zone': ''},\n",
       "  'location': {'x': 2.1730544160000704, 'y': 41.40684101700003},\n",
       "  'score': 98.21}]"
      ]
     },
     "execution_count": 16,
     "metadata": {},
     "output_type": "execute_result"
    }
   ],
   "source": [
    "results2"
   ]
  },
  {
   "cell_type": "code",
   "execution_count": 17,
   "metadata": {},
   "outputs": [
    {
     "data": {
      "application/vnd.jupyter.widget-view+json": {
       "model_id": "6048892ed83340fbb51cd848d9345990"
      }
     },
     "metadata": {},
     "output_type": "display_data"
    }
   ],
   "source": [
    "map = gis.map(\"Barcelona\", 9)\n",
    "map"
   ]
  },
  {
   "cell_type": "code",
   "execution_count": 18,
   "metadata": {
    "collapsed": true
   },
   "outputs": [],
   "source": [
    "for address2 in results2:\n",
    "    map.draw(address2['location'])"
   ]
  },
  {
   "cell_type": "markdown",
   "metadata": {},
   "source": [
    "# 2. Geocode airport codes with category"
   ]
  },
  {
   "cell_type": "code",
   "execution_count": 9,
   "metadata": {
    "collapsed": true
   },
   "outputs": [],
   "source": [
    "airports = batch_geocode([\"LAX\", \"SFO\", \"ONT\", \"FAT\", \"LGB\"], category=\"airport\")"
   ]
  },
  {
   "cell_type": "code",
   "execution_count": 10,
   "metadata": {},
   "outputs": [
    {
     "data": {
      "application/vnd.jupyter.widget-view+json": {
       "model_id": "44b168bcf0c9499b86196f0a1987030c"
      }
     },
     "metadata": {},
     "output_type": "display_data"
    }
   ],
   "source": [
    "map = gis.map(\"CA\", 2)\n",
    "map"
   ]
  },
  {
   "cell_type": "code",
   "execution_count": 11,
   "metadata": {
    "collapsed": true
   },
   "outputs": [],
   "source": [
    "for airport in airports:\n",
    "    popup = { \n",
    "    \"title\" : airport['attributes']['PlaceName'], \n",
    "    \"content\" : airport['address']\n",
    "    }\n",
    "    map.draw(airport['location'], popup)"
   ]
  },
  {
   "cell_type": "markdown",
   "metadata": {},
   "source": [
    "## Task: test the geocoding based on other address (e.g. your home, your city, BTS building). "
   ]
  }
 ],
 "metadata": {
  "kernelspec": {
   "display_name": "Python 3",
   "language": "python",
   "name": "python3"
  },
  "language_info": {
   "codemirror_mode": {
    "name": "ipython",
    "version": 3
   },
   "file_extension": ".py",
   "mimetype": "text/x-python",
   "name": "python",
   "nbconvert_exporter": "python",
   "pygments_lexer": "ipython3",
   "version": "3.6.3"
  }
 },
 "nbformat": 4,
 "nbformat_minor": 2
}
